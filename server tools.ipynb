{
 "cells": [
  {
   "cell_type": "markdown",
   "id": "e2e26294-5da8-4eb7-a3cb-5e73facb96c5",
   "metadata": {},
   "source": [
    "## Tools to test and calibrate"
   ]
  },
  {
   "cell_type": "markdown",
   "id": "13f2fbbd-1521-467b-b79f-fe04a3ab16d4",
   "metadata": {},
   "source": [
    "### Extract and display data from Raspberry Pi server"
   ]
  },
  {
   "cell_type": "code",
   "execution_count": null,
   "id": "0daa562c-78b2-4339-972f-e3c82af5f812",
   "metadata": {},
   "outputs": [],
   "source": [
    "import time\n",
    "import socket\n",
    "import datetime\n",
    "\n",
    "\n",
    "SERVER_IP    = \"10.0.1.69\"   # insert your own Raspberry Pi address\n",
    "SERVER_PORT  = 8000         \n",
    "\n",
    "sock = socket.socket(socket.AF_INET, socket.SOCK_DGRAM)\n",
    "\n",
    "while True:\n",
    "    start_time = datetime.datetime.now()\n",
    "    message = 'get data'\n",
    "    sock.sendto(message.encode(), (SERVER_IP, SERVER_PORT))\n",
    "    data, address = sock.recvfrom(4096)\n",
    "    end_time = datetime.datetime.now()\n",
    "    \n",
    "    if data:\n",
    "        now = datetime.datetime.now()\n",
    "        data_string = data.decode().split(',')\n",
    "        battery_current = float(data_string[0])\n",
    "        battery_voltage = float(data_string[1])\n",
    "        battery_SoC = float(data_string[2])\n",
    "        load_power = float(data_string[3])\n",
    "        battery_power = float(data_string[4])         ####  <- this is the key number for the Zappi\n",
    "        print('                                                                                      ',end='\\r')\n",
    "        print(now.strftime(\"%H:%M:%S\"),'{:6.1f}A   {:6.1f}V    SoC {:5.1f}%    Load {:4,.0f}W    Charge {:4,.0f}W'\n",
    "              .format(battery_current,battery_voltage,battery_SoC,load_power,battery_power),end='\\r')\n",
    "\n",
    "    time.sleep(5)\n",
    "\n"
   ]
  },
  {
   "cell_type": "markdown",
   "id": "8e2f8429-c66f-4155-a6f2-8c6236d04ea8",
   "metadata": {},
   "source": [
    "### Set fixed response for calibration"
   ]
  },
  {
   "cell_type": "code",
   "execution_count": 22,
   "id": "ecc63a30-5c6d-4f4e-a3fd-ebea850fca56",
   "metadata": {},
   "outputs": [
    {
     "name": "stdout",
     "output_type": "stream",
     "text": [
      "5 bytes transmitted\n"
     ]
    }
   ],
   "source": [
    "# Recommend plotting set value vs value observerd on myenergi app.  \n",
    "# Only one decimal place available so line of best fit with lots of points is a good approach\n",
    "\n",
    "\n",
    "import time\n",
    "import socket\n",
    "import datetime\n",
    "\n",
    "\n",
    "SERVER_IP    = \"10.0.1.69\"\n",
    "SERVER_PORT  = 8000\n",
    "\n",
    "sock = socket.socket(socket.AF_INET, socket.SOCK_DGRAM)\n",
    "message = 'clear'       # remember to 'clear' when finsihed or the battery will indicate this number forever!\n",
    "#message = 'set 1000'   number is watts\n",
    "#message = 'set 2500'\n",
    "sent = sock.sendto(message.encode(), (SERVER_IP, SERVER_PORT))\n",
    "print(sent, 'bytes transmitted')\n",
    "\n"
   ]
  },
  {
   "cell_type": "code",
   "execution_count": null,
   "id": "b4510d1b-fda3-43bc-baeb-ed8ef1b97ff4",
   "metadata": {},
   "outputs": [],
   "source": []
  }
 ],
 "metadata": {
  "kernelspec": {
   "display_name": "Python 3 (ipykernel)",
   "language": "python",
   "name": "python3"
  },
  "language_info": {
   "codemirror_mode": {
    "name": "ipython",
    "version": 3
   },
   "file_extension": ".py",
   "mimetype": "text/x-python",
   "name": "python",
   "nbconvert_exporter": "python",
   "pygments_lexer": "ipython3",
   "version": "3.11.8"
  },
  "widgets": {
   "application/vnd.jupyter.widget-state+json": {
    "state": {},
    "version_major": 2,
    "version_minor": 0
   }
  }
 },
 "nbformat": 4,
 "nbformat_minor": 5
}
